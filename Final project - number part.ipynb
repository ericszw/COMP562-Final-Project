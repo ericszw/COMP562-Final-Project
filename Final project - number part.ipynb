{
 "cells": [
  {
   "cell_type": "code",
   "execution_count": 624,
   "metadata": {},
   "outputs": [],
   "source": [
    "import numpy as np\n",
    "from PIL import Image, ImageDraw, ImageFont\n",
    "from skimage import transform as tf\n",
    "from skimage.measure import label, regionprops\n",
    "from skimage.transform import resize\n",
    "from matplotlib import pyplot as plt\n",
    "from sklearn.utils import check_random_state\n",
    "from sklearn.preprocessing import OneHotEncoder\n",
    "from sklearn.metrics import f1_score\n",
    "from sklearn.neural_network import MLPClassifier"
   ]
  },
  {
   "cell_type": "code",
   "execution_count": 625,
   "metadata": {},
   "outputs": [],
   "source": [
    "#150 is suitable for at most 6 char\n",
    "def generator(text, shear=0, size=(150, 24),scale=1):\n",
    "    bg = Image.new(\"L\", size, \"black\")   \n",
    "    draw = ImageDraw.Draw(bg)\n",
    "    font = ImageFont.truetype(r\"Coval-Black.ttf\", 22)\n",
    "    draw.text((1,1),text, fill=1, font=font)\n",
    "    image = np.array(bg)\n",
    "    # shear the image as give value\n",
    "    affine_tf = tf.AffineTransform(shear=shear)\n",
    "    image = tf.warp(image, affine_tf)\n",
    "    image = image / image.max()\n",
    "    return image"
   ]
  },
  {
   "cell_type": "code",
   "execution_count": 626,
   "metadata": {},
   "outputs": [],
   "source": [
    "def segment_image(image):\n",
    "    # We need to split the chars in the image. To avoid misclassification, I set a tighter boundage.\n",
    "    limage = label(image > 0.8)\n",
    "    subimages = []\n",
    "    for region in regionprops(limage):\n",
    "        x1, y1, x2, y2 = region.bbox\n",
    "        subimages.append(image[x1:x2,y1:y2])\n",
    "    return subimages"
   ]
  },
  {
   "cell_type": "code",
   "execution_count": 627,
   "metadata": {},
   "outputs": [],
   "source": [
    "tword = \"EA888G2\"\n",
    "image=generator(tword, shear=0.3)\n",
    "subimages = segment_image(image)"
   ]
  },
  {
   "cell_type": "code",
   "execution_count": 628,
   "metadata": {
    "scrolled": true
   },
   "outputs": [
    {
     "data": {
      "image/png": "[encoded data removed]",
      "text/plain": [
       "<Figure size 720x216 with 7 Axes>"
      ]
     },
     "metadata": {
      "needs_background": "light"
     },
     "output_type": "display_data"
    }
   ],
   "source": [
    "f, axes = plt.subplots(1, len(subimages), figsize=(10, 3))\n",
    "for i in range(len(subimages)):\n",
    "    axes[i].imshow(subimages[i], cmap=\"gray\")"
   ]
  },
  {
   "cell_type": "code",
   "execution_count": 629,
   "metadata": {},
   "outputs": [
    {
     "data": {
      "text/plain": [
       "array([0.  , 0.05, 0.1 , 0.15, 0.2 , 0.25, 0.3 , 0.35, 0.4 , 0.45])"
      ]
     },
     "execution_count": 629,
     "metadata": {},
     "output_type": "execute_result"
    }
   ],
   "source": [
    "random_state = check_random_state(8)\n",
    "\n",
    "#list of 10 numbers and 26 letters\n",
    "letters = list(\"ABCDEFGHIJKLMNOPQRSTUVWXYZ1234567890\")\n",
    "#List of possible shear values\n",
    "shear_values = np.arange(0, 0.5, 0.05)\n",
    "shear_values"
   ]
  },
  {
   "cell_type": "code",
   "execution_count": 630,
   "metadata": {},
   "outputs": [],
   "source": [
    "def generate_sample(random_state=None):\n",
    "    random_state = check_random_state(random_state)\n",
    "    letter = random_state.choice(letters)\n",
    "    shear = random_state.choice(shear_values)\n",
    "    # generate training set with different letters\n",
    "    return generator(letter, shear=shear, size=(25, 25)),letters.index(letter)"
   ]
  },
  {
   "cell_type": "code",
   "execution_count": 631,
   "metadata": {},
   "outputs": [],
   "source": [
    "dataset, targets = zip(*(generate_sample(random_state) for i in range(2000)))\n",
    "dataset = np.array([tf.resize(segment_image(sample)[0], (20, 20)) for sample in dataset])\n",
    "dataset = np.array(dataset, dtype='float') \n",
    "targets = np.array(targets)"
   ]
  },
  {
   "cell_type": "code",
   "execution_count": 632,
   "metadata": {},
   "outputs": [
    {
     "name": "stdout",
     "output_type": "stream",
     "text": [
      "2000 20 20\n"
     ]
    }
   ],
   "source": [
    "onehotencoder = OneHotEncoder()\n",
    "y = onehotencoder.fit_transform(targets.reshape(targets.shape[0],1)) \n",
    "y = y.todense()\n",
    "print(dataset.shape[0], dataset.shape[1] ,dataset.shape[2])"
   ]
  },
  {
   "cell_type": "code",
   "execution_count": 633,
   "metadata": {},
   "outputs": [],
   "source": [
    "X = dataset.reshape((dataset.shape[0], dataset.shape[1] * dataset.shape[2]))\n",
    "\n",
    "from sklearn.model_selection import train_test_split\n",
    "X_train, X_test, y_train, y_test = train_test_split(X, y, train_size=0.9)"
   ]
  },
  {
   "cell_type": "code",
   "execution_count": 634,
   "metadata": {},
   "outputs": [],
   "source": [
    "clf = MLPClassifier(hidden_layer_sizes=(100,), random_state=14, max_iter=1000)"
   ]
  },
  {
   "cell_type": "code",
   "execution_count": 635,
   "metadata": {},
   "outputs": [
    {
     "data": {
      "text/plain": [
       "MLPClassifier(activation='relu', alpha=0.0001, batch_size='auto', beta_1=0.9,\n",
       "              beta_2=0.999, early_stopping=False, epsilon=1e-08,\n",
       "              hidden_layer_sizes=(100,), learning_rate='constant',\n",
       "              learning_rate_init=0.001, max_fun=15000, max_iter=1000,\n",
       "              momentum=0.9, n_iter_no_change=10, nesterovs_momentum=True,\n",
       "              power_t=0.5, random_state=14, shuffle=True, solver='adam',\n",
       "              tol=0.0001, validation_fraction=0.1, verbose=False,\n",
       "              warm_start=False)"
      ]
     },
     "execution_count": 635,
     "metadata": {},
     "output_type": "execute_result"
    }
   ],
   "source": [
    "clf.fit(X_train, y_train)"
   ]
  },
  {
   "cell_type": "code",
   "execution_count": 636,
   "metadata": {},
   "outputs": [
    {
     "data": {
      "text/plain": [
       "1.0"
      ]
     },
     "execution_count": 636,
     "metadata": {},
     "output_type": "execute_result"
    }
   ],
   "source": [
    "y_pred = clf.predict(X_test)\n",
    "f1_score(y_pred=y_pred, y_true=y_test, average='macro')"
   ]
  },
  {
   "cell_type": "code",
   "execution_count": 637,
   "metadata": {},
   "outputs": [
    {
     "name": "stdout",
     "output_type": "stream",
     "text": [
      "              precision    recall  f1-score   support\n",
      "\n",
      "           0       1.00      1.00      1.00         4\n",
      "           1       1.00      1.00      1.00         9\n",
      "           2       1.00      1.00      1.00         3\n",
      "           3       1.00      1.00      1.00         3\n",
      "           4       1.00      1.00      1.00         4\n",
      "           5       1.00      1.00      1.00         3\n",
      "           6       1.00      1.00      1.00         9\n",
      "           7       1.00      1.00      1.00         5\n",
      "           8       1.00      1.00      1.00         8\n",
      "           9       1.00      1.00      1.00         4\n",
      "          10       1.00      1.00      1.00         5\n",
      "          11       1.00      1.00      1.00         6\n",
      "          12       1.00      1.00      1.00         9\n",
      "          13       1.00      1.00      1.00         3\n",
      "          14       1.00      1.00      1.00         3\n",
      "          15       1.00      1.00      1.00         5\n",
      "          16       1.00      1.00      1.00         5\n",
      "          17       1.00      1.00      1.00         9\n",
      "          18       1.00      1.00      1.00         7\n",
      "          19       1.00      1.00      1.00         9\n",
      "          20       1.00      1.00      1.00         6\n",
      "          21       1.00      1.00      1.00         6\n",
      "          22       1.00      1.00      1.00         2\n",
      "          23       1.00      1.00      1.00         6\n",
      "          24       1.00      1.00      1.00         8\n",
      "          25       1.00      1.00      1.00         5\n",
      "          26       1.00      1.00      1.00         5\n",
      "          27       1.00      1.00      1.00         6\n",
      "          28       1.00      1.00      1.00         3\n",
      "          29       1.00      1.00      1.00        11\n",
      "          30       1.00      1.00      1.00         5\n",
      "          31       1.00      1.00      1.00         5\n",
      "          32       1.00      1.00      1.00         5\n",
      "          33       1.00      1.00      1.00         3\n",
      "          34       1.00      1.00      1.00         6\n",
      "          35       1.00      1.00      1.00         5\n",
      "\n",
      "   micro avg       1.00      1.00      1.00       200\n",
      "   macro avg       1.00      1.00      1.00       200\n",
      "weighted avg       1.00      1.00      1.00       200\n",
      " samples avg       1.00      1.00      1.00       200\n",
      "\n"
     ]
    }
   ],
   "source": [
    "from sklearn.metrics import classification_report\n",
    "\n",
    "#correctness for 10 numbers and 26 letters (100% correct for individual prediction)\n",
    "print(classification_report(y_pred=y_pred, y_true=y_test))"
   ]
  },
  {
   "cell_type": "code",
   "execution_count": 638,
   "metadata": {},
   "outputs": [],
   "source": [
    "def predict_image(raw_image, neural_network):\n",
    "    subimages = segment_image(raw_image)\n",
    "    #convert 2D graph to 1D array\n",
    "    dataset = np.array([tf.resize(subimage, (20, 20)) for subimage in subimages])\n",
    "    X_test = []\n",
    "    X_test_raw = dataset.reshape((dataset.shape[0], dataset.shape[1] * dataset.shape[2]))\n",
    "    #Sometimes we may have an empty subimage (normally the last one). We need to get rid of them.\n",
    "    for testelement in X_test_raw:\n",
    "        if (sum(testelement) < 360):\n",
    "            X_test.append(testelement)\n",
    "    y_pred = neural_network.predict_proba(X_test)\n",
    "    predictions = np.argmax(y_pred, axis=1)\n",
    "    predicted_word = str.join(\"\", [letters[prediction] for prediction in predictions])\n",
    "    return predicted_word"
   ]
  },
  {
   "cell_type": "code",
   "execution_count": 639,
   "metadata": {},
   "outputs": [],
   "source": [
    "def test_prediction(word, neural_network, shear=0.2):\n",
    "    raw_image = generator(word, shear=shear)\n",
    "    prediction = predict_image(raw_image, neural_network)\n",
    "    return word == prediction, word, prediction"
   ]
  },
  {
   "cell_type": "code",
   "execution_count": 640,
   "metadata": {},
   "outputs": [
    {
     "name": "stderr",
     "output_type": "stream",
     "text": [
      "[nltk_data] Downloading package words to /Users/abc/nltk_data...\n",
      "[nltk_data]   Package words is already up-to-date!\n"
     ]
    }
   ],
   "source": [
    "#use nltk to be the word bank of the testing cases\n",
    "import nltk\n",
    "nltk.download('words')\n",
    "\n",
    "from nltk.corpus import words\n",
    "valid_words = [word.upper() for word in words.words() if len(word) <7]"
   ]
  },
  {
   "cell_type": "code",
   "execution_count": 641,
   "metadata": {},
   "outputs": [
    {
     "name": "stdout",
     "output_type": "stream",
     "text": [
      "correct prediction: 4470 incorrect prediction: 8\n",
      "correct prediction: 4431 incorrect prediction: 8\n",
      "correct prediction: 4448 incorrect prediction: 4\n",
      "correct prediction: 4410 incorrect prediction: 0\n",
      "correct prediction: 4525 incorrect prediction: 1\n",
      "correct prediction: 4286 incorrect prediction: 145\n",
      "correct prediction: 3466 incorrect prediction: 918\n",
      "correct prediction: 1324 incorrect prediction: 3064\n"
     ]
    }
   ],
   "source": [
    "num_correct=[0,0,0,0,0,0,0,0,0,0]\n",
    "num_incorrect=[0,0,0,0,0,0,0,0,0,0]\n",
    "shear_values = np.arange(0.1, 0.5, 0.05)\n",
    "for word in valid_words:\n",
    "    if (word!=''):\n",
    "        shear = random_state.choice(shear_values)\n",
    "        correct, word, prediction = test_prediction(word, clf,shear=shear)\n",
    "        index=int(shear/0.05)\n",
    "        if correct:\n",
    "            num_correct[index] += 1\n",
    "        else:\n",
    "            num_incorrect[index] += 1\n",
    "\n",
    "for i in range(2,len(num_correct)):\n",
    "    print(\"correct prediction:\",num_correct[i],\"incorrect prediction:\",num_incorrect[i])"
   ]
  },
  {
   "cell_type": "code",
   "execution_count": 642,
   "metadata": {},
   "outputs": [
    {
     "name": "stdout",
     "output_type": "stream",
     "text": [
      "correctness for 0.1 is  99.8213488164359 %\n",
      "correctness for 0.15 is  99.8213488164359 %\n",
      "correctness for 0.2 is  99.91015274034142 %\n",
      "correctness for 0.25 is  100.0 %\n",
      "correctness for 0.3 is  100.0 %\n",
      "correctness for 0.35 is  99.97790543526293 %\n",
      "correctness for 0.4 is  79.0602189781022 %\n",
      "correctness for 0.45 is  30.17319963536919 %\n"
     ]
    }
   ],
   "source": [
    "for i in [0.1,0.15,0.2,0.25,0.3,0.35,0.4,0.45]:\n",
    "    index=int(i/0.05)\n",
    "    print(\"correctness for\",i,\"is \",(num_correct[index])/(num_correct[index]+num_incorrect[index])*100,\"%\")"
   ]
  },
  {
   "cell_type": "markdown",
   "metadata": {},
   "source": [
    "So from this result, we can find error goes up when we increase shear."
   ]
  },
  {
   "cell_type": "code",
   "execution_count": 643,
   "metadata": {},
   "outputs": [],
   "source": [
    "tword = \"EA888G2\"\n",
    "image=generator(tword, shear=0.7)\n",
    "subimages = segment_image(image)"
   ]
  },
  {
   "cell_type": "code",
   "execution_count": 644,
   "metadata": {},
   "outputs": [
    {
     "data": {
      "image/png": "[encoded data removed]",
      "text/plain": [
       "<Figure size 720x216 with 8 Axes>"
      ]
     },
     "metadata": {
      "needs_background": "light"
     },
     "output_type": "display_data"
    }
   ],
   "source": [
    "f, axes = plt.subplots(1, len(subimages), figsize=(10, 3))\n",
    "for i in range(len(subimages)):\n",
    "    axes[i].imshow(subimages[i], cmap=\"gray\")"
   ]
  },
  {
   "cell_type": "code",
   "execution_count": 645,
   "metadata": {},
   "outputs": [
    {
     "data": {
      "image/png": "[encoded data removed]",
      "text/plain": [
       "<Figure size 720x216 with 7 Axes>"
      ]
     },
     "metadata": {
      "needs_background": "light"
     },
     "output_type": "display_data"
    }
   ],
   "source": [
    "tword = \"EA888G2\"\n",
    "image=generator(tword, shear=0.3)\n",
    "subimages = segment_image(image)\n",
    "f, axes = plt.subplots(1, len(subimages), figsize=(10, 3))\n",
    "for i in range(len(subimages)):\n",
    "    axes[i].imshow(subimages[i], cmap=\"gray\")"
   ]
  },
  {
   "cell_type": "markdown",
   "metadata": {},
   "source": [
    "This is because when shear value becomes very large, it's hard to split the letters using vertical lines."
   ]
  },
  {
   "cell_type": "code",
   "execution_count": null,
   "metadata": {},
   "outputs": [],
   "source": []
  }
 ],
 "metadata": {
  "kernelspec": {
   "display_name": "Python 3",
   "language": "python",
   "name": "python3"
  },
  "language_info": {
   "codemirror_mode": {
    "name": "ipython",
    "version": 3
   },
   "file_extension": ".py",
   "mimetype": "text/x-python",
   "name": "python",
   "nbconvert_exporter": "python",
   "pygments_lexer": "ipython3",
   "version": "3.7.6"
  }
 },
 "nbformat": 4,
 "nbformat_minor": 4
}
